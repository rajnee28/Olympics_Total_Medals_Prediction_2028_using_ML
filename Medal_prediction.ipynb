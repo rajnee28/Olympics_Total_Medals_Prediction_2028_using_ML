{
 "cells": [
  {
   "cell_type": "code",
   "execution_count": 12,
   "id": "7d96ae71",
   "metadata": {},
   "outputs": [],
   "source": [
    "import pandas as pd\n",
    "import numpy as np\n",
    "import matplotlib.pyplot as plt\n",
    "import seaborn as sns\n",
    "from sklearn.model_selection import train_test_split, cross_val_score\n",
    "from sklearn.linear_model import LinearRegression\n",
    "from sklearn.ensemble import RandomForestRegressor\n",
    "from sklearn.metrics import mean_squared_error, r2_score"
   ]
  },
  {
   "cell_type": "code",
   "execution_count": 2,
   "id": "8ec83a43",
   "metadata": {},
   "outputs": [],
   "source": [
    "dataset= pd.read_csv('medals_total.csv')"
   ]
  },
  {
   "cell_type": "code",
   "execution_count": 3,
   "id": "489120d6",
   "metadata": {},
   "outputs": [
    {
     "data": {
      "text/html": [
       "<div>\n",
       "<style scoped>\n",
       "    .dataframe tbody tr th:only-of-type {\n",
       "        vertical-align: middle;\n",
       "    }\n",
       "\n",
       "    .dataframe tbody tr th {\n",
       "        vertical-align: top;\n",
       "    }\n",
       "\n",
       "    .dataframe thead th {\n",
       "        text-align: right;\n",
       "    }\n",
       "</style>\n",
       "<table border=\"1\" class=\"dataframe\">\n",
       "  <thead>\n",
       "    <tr style=\"text-align: right;\">\n",
       "      <th></th>\n",
       "      <th>country_code</th>\n",
       "      <th>Gold Medal</th>\n",
       "      <th>Silver Medal</th>\n",
       "      <th>Bronze Medal</th>\n",
       "      <th>Total</th>\n",
       "    </tr>\n",
       "  </thead>\n",
       "  <tbody>\n",
       "    <tr>\n",
       "      <th>0</th>\n",
       "      <td>USA</td>\n",
       "      <td>38</td>\n",
       "      <td>42</td>\n",
       "      <td>42</td>\n",
       "      <td>122</td>\n",
       "    </tr>\n",
       "    <tr>\n",
       "      <th>1</th>\n",
       "      <td>CHN</td>\n",
       "      <td>38</td>\n",
       "      <td>27</td>\n",
       "      <td>24</td>\n",
       "      <td>89</td>\n",
       "    </tr>\n",
       "    <tr>\n",
       "      <th>2</th>\n",
       "      <td>AUS</td>\n",
       "      <td>18</td>\n",
       "      <td>18</td>\n",
       "      <td>14</td>\n",
       "      <td>50</td>\n",
       "    </tr>\n",
       "    <tr>\n",
       "      <th>3</th>\n",
       "      <td>JPN</td>\n",
       "      <td>18</td>\n",
       "      <td>12</td>\n",
       "      <td>13</td>\n",
       "      <td>43</td>\n",
       "    </tr>\n",
       "    <tr>\n",
       "      <th>4</th>\n",
       "      <td>FRA</td>\n",
       "      <td>16</td>\n",
       "      <td>24</td>\n",
       "      <td>22</td>\n",
       "      <td>62</td>\n",
       "    </tr>\n",
       "    <tr>\n",
       "      <th>...</th>\n",
       "      <td>...</td>\n",
       "      <td>...</td>\n",
       "      <td>...</td>\n",
       "      <td>...</td>\n",
       "      <td>...</td>\n",
       "    </tr>\n",
       "    <tr>\n",
       "      <th>87</th>\n",
       "      <td>PUR</td>\n",
       "      <td>0</td>\n",
       "      <td>0</td>\n",
       "      <td>1</td>\n",
       "      <td>1</td>\n",
       "    </tr>\n",
       "    <tr>\n",
       "      <th>88</th>\n",
       "      <td>QAT</td>\n",
       "      <td>0</td>\n",
       "      <td>0</td>\n",
       "      <td>1</td>\n",
       "      <td>1</td>\n",
       "    </tr>\n",
       "    <tr>\n",
       "      <th>89</th>\n",
       "      <td>SGP</td>\n",
       "      <td>0</td>\n",
       "      <td>0</td>\n",
       "      <td>1</td>\n",
       "      <td>1</td>\n",
       "    </tr>\n",
       "    <tr>\n",
       "      <th>90</th>\n",
       "      <td>SVK</td>\n",
       "      <td>0</td>\n",
       "      <td>0</td>\n",
       "      <td>1</td>\n",
       "      <td>1</td>\n",
       "    </tr>\n",
       "    <tr>\n",
       "      <th>91</th>\n",
       "      <td>ZAM</td>\n",
       "      <td>0</td>\n",
       "      <td>0</td>\n",
       "      <td>1</td>\n",
       "      <td>1</td>\n",
       "    </tr>\n",
       "  </tbody>\n",
       "</table>\n",
       "<p>92 rows × 5 columns</p>\n",
       "</div>"
      ],
      "text/plain": [
       "   country_code  Gold Medal  Silver Medal  Bronze Medal  Total\n",
       "0           USA          38            42            42    122\n",
       "1           CHN          38            27            24     89\n",
       "2           AUS          18            18            14     50\n",
       "3           JPN          18            12            13     43\n",
       "4           FRA          16            24            22     62\n",
       "..          ...         ...           ...           ...    ...\n",
       "87          PUR           0             0             1      1\n",
       "88          QAT           0             0             1      1\n",
       "89          SGP           0             0             1      1\n",
       "90          SVK           0             0             1      1\n",
       "91          ZAM           0             0             1      1\n",
       "\n",
       "[92 rows x 5 columns]"
      ]
     },
     "execution_count": 3,
     "metadata": {},
     "output_type": "execute_result"
    }
   ],
   "source": [
    "dataset"
   ]
  },
  {
   "cell_type": "code",
   "execution_count": 4,
   "id": "0f596152",
   "metadata": {},
   "outputs": [
    {
     "data": {
      "text/html": [
       "<div>\n",
       "<style scoped>\n",
       "    .dataframe tbody tr th:only-of-type {\n",
       "        vertical-align: middle;\n",
       "    }\n",
       "\n",
       "    .dataframe tbody tr th {\n",
       "        vertical-align: top;\n",
       "    }\n",
       "\n",
       "    .dataframe thead th {\n",
       "        text-align: right;\n",
       "    }\n",
       "</style>\n",
       "<table border=\"1\" class=\"dataframe\">\n",
       "  <thead>\n",
       "    <tr style=\"text-align: right;\">\n",
       "      <th></th>\n",
       "      <th>country_code</th>\n",
       "      <th>Gold Medal</th>\n",
       "      <th>Silver Medal</th>\n",
       "      <th>Bronze Medal</th>\n",
       "      <th>Total</th>\n",
       "    </tr>\n",
       "  </thead>\n",
       "  <tbody>\n",
       "    <tr>\n",
       "      <th>0</th>\n",
       "      <td>USA</td>\n",
       "      <td>38</td>\n",
       "      <td>42</td>\n",
       "      <td>42</td>\n",
       "      <td>122</td>\n",
       "    </tr>\n",
       "    <tr>\n",
       "      <th>1</th>\n",
       "      <td>CHN</td>\n",
       "      <td>38</td>\n",
       "      <td>27</td>\n",
       "      <td>24</td>\n",
       "      <td>89</td>\n",
       "    </tr>\n",
       "    <tr>\n",
       "      <th>2</th>\n",
       "      <td>AUS</td>\n",
       "      <td>18</td>\n",
       "      <td>18</td>\n",
       "      <td>14</td>\n",
       "      <td>50</td>\n",
       "    </tr>\n",
       "    <tr>\n",
       "      <th>3</th>\n",
       "      <td>JPN</td>\n",
       "      <td>18</td>\n",
       "      <td>12</td>\n",
       "      <td>13</td>\n",
       "      <td>43</td>\n",
       "    </tr>\n",
       "    <tr>\n",
       "      <th>4</th>\n",
       "      <td>FRA</td>\n",
       "      <td>16</td>\n",
       "      <td>24</td>\n",
       "      <td>22</td>\n",
       "      <td>62</td>\n",
       "    </tr>\n",
       "  </tbody>\n",
       "</table>\n",
       "</div>"
      ],
      "text/plain": [
       "  country_code  Gold Medal  Silver Medal  Bronze Medal  Total\n",
       "0          USA          38            42            42    122\n",
       "1          CHN          38            27            24     89\n",
       "2          AUS          18            18            14     50\n",
       "3          JPN          18            12            13     43\n",
       "4          FRA          16            24            22     62"
      ]
     },
     "execution_count": 4,
     "metadata": {},
     "output_type": "execute_result"
    }
   ],
   "source": [
    "# Data Preprocessing ..\n",
    "\n",
    "dataset.head()"
   ]
  },
  {
   "cell_type": "code",
   "execution_count": 16,
   "id": "946961e8",
   "metadata": {},
   "outputs": [
    {
     "data": {
      "text/plain": [
       "country_code    object\n",
       "Gold Medal       int64\n",
       "Silver Medal     int64\n",
       "Bronze Medal     int64\n",
       "Total            int64\n",
       "dtype: object"
      ]
     },
     "execution_count": 16,
     "metadata": {},
     "output_type": "execute_result"
    }
   ],
   "source": [
    "dataset.dtypes"
   ]
  },
  {
   "cell_type": "code",
   "execution_count": 17,
   "id": "c683a816",
   "metadata": {},
   "outputs": [
    {
     "data": {
      "text/html": [
       "<div>\n",
       "<style scoped>\n",
       "    .dataframe tbody tr th:only-of-type {\n",
       "        vertical-align: middle;\n",
       "    }\n",
       "\n",
       "    .dataframe tbody tr th {\n",
       "        vertical-align: top;\n",
       "    }\n",
       "\n",
       "    .dataframe thead th {\n",
       "        text-align: right;\n",
       "    }\n",
       "</style>\n",
       "<table border=\"1\" class=\"dataframe\">\n",
       "  <thead>\n",
       "    <tr style=\"text-align: right;\">\n",
       "      <th></th>\n",
       "      <th>Gold Medal</th>\n",
       "      <th>Silver Medal</th>\n",
       "      <th>Bronze Medal</th>\n",
       "      <th>Total</th>\n",
       "    </tr>\n",
       "  </thead>\n",
       "  <tbody>\n",
       "    <tr>\n",
       "      <th>count</th>\n",
       "      <td>92.000000</td>\n",
       "      <td>92.000000</td>\n",
       "      <td>92.000000</td>\n",
       "      <td>92.000000</td>\n",
       "    </tr>\n",
       "    <tr>\n",
       "      <th>mean</th>\n",
       "      <td>3.402174</td>\n",
       "      <td>3.413043</td>\n",
       "      <td>3.978261</td>\n",
       "      <td>10.793478</td>\n",
       "    </tr>\n",
       "    <tr>\n",
       "      <th>std</th>\n",
       "      <td>6.613439</td>\n",
       "      <td>6.445293</td>\n",
       "      <td>6.390202</td>\n",
       "      <td>18.909000</td>\n",
       "    </tr>\n",
       "    <tr>\n",
       "      <th>min</th>\n",
       "      <td>0.000000</td>\n",
       "      <td>0.000000</td>\n",
       "      <td>0.000000</td>\n",
       "      <td>1.000000</td>\n",
       "    </tr>\n",
       "    <tr>\n",
       "      <th>25%</th>\n",
       "      <td>0.000000</td>\n",
       "      <td>0.000000</td>\n",
       "      <td>1.000000</td>\n",
       "      <td>2.000000</td>\n",
       "    </tr>\n",
       "    <tr>\n",
       "      <th>50%</th>\n",
       "      <td>1.000000</td>\n",
       "      <td>1.000000</td>\n",
       "      <td>2.000000</td>\n",
       "      <td>5.000000</td>\n",
       "    </tr>\n",
       "    <tr>\n",
       "      <th>75%</th>\n",
       "      <td>3.000000</td>\n",
       "      <td>3.000000</td>\n",
       "      <td>4.250000</td>\n",
       "      <td>8.000000</td>\n",
       "    </tr>\n",
       "    <tr>\n",
       "      <th>max</th>\n",
       "      <td>38.000000</td>\n",
       "      <td>42.000000</td>\n",
       "      <td>42.000000</td>\n",
       "      <td>122.000000</td>\n",
       "    </tr>\n",
       "  </tbody>\n",
       "</table>\n",
       "</div>"
      ],
      "text/plain": [
       "       Gold Medal  Silver Medal  Bronze Medal       Total\n",
       "count   92.000000     92.000000     92.000000   92.000000\n",
       "mean     3.402174      3.413043      3.978261   10.793478\n",
       "std      6.613439      6.445293      6.390202   18.909000\n",
       "min      0.000000      0.000000      0.000000    1.000000\n",
       "25%      0.000000      0.000000      1.000000    2.000000\n",
       "50%      1.000000      1.000000      2.000000    5.000000\n",
       "75%      3.000000      3.000000      4.250000    8.000000\n",
       "max     38.000000     42.000000     42.000000  122.000000"
      ]
     },
     "execution_count": 17,
     "metadata": {},
     "output_type": "execute_result"
    }
   ],
   "source": [
    "dataset.describe()"
   ]
  },
  {
   "cell_type": "code",
   "execution_count": 6,
   "id": "825146f6",
   "metadata": {},
   "outputs": [],
   "source": [
    "dataset_columns=dataset[['country_code','Gold Medal','Silver Medal','Bronze Medal','Total']]"
   ]
  },
  {
   "cell_type": "code",
   "execution_count": 13,
   "id": "27e7180a",
   "metadata": {},
   "outputs": [
    {
     "data": {
      "text/plain": [
       "country_code    0\n",
       "Gold Medal      0\n",
       "Silver Medal    0\n",
       "Bronze Medal    0\n",
       "Total           0\n",
       "dtype: int64"
      ]
     },
     "execution_count": 13,
     "metadata": {},
     "output_type": "execute_result"
    }
   ],
   "source": [
    "dataset_columns.isnull().sum()"
   ]
  },
  {
   "cell_type": "code",
   "execution_count": 14,
   "id": "cfbd72b3",
   "metadata": {},
   "outputs": [],
   "source": [
    "# encoding for catagorical column - country_code \n",
    "\n",
    "data_encoded = pd.get_dummies(dataset_columns, columns=['country_code'], drop_first=True)"
   ]
  },
  {
   "cell_type": "code",
   "execution_count": 64,
   "id": "73c80cbe",
   "metadata": {},
   "outputs": [
    {
     "data": {
      "text/html": [
       "<div>\n",
       "<style scoped>\n",
       "    .dataframe tbody tr th:only-of-type {\n",
       "        vertical-align: middle;\n",
       "    }\n",
       "\n",
       "    .dataframe tbody tr th {\n",
       "        vertical-align: top;\n",
       "    }\n",
       "\n",
       "    .dataframe thead th {\n",
       "        text-align: right;\n",
       "    }\n",
       "</style>\n",
       "<table border=\"1\" class=\"dataframe\">\n",
       "  <thead>\n",
       "    <tr style=\"text-align: right;\">\n",
       "      <th></th>\n",
       "      <th>Gold Medal</th>\n",
       "      <th>Silver Medal</th>\n",
       "      <th>Bronze Medal</th>\n",
       "      <th>Total</th>\n",
       "      <th>country_code_ALB</th>\n",
       "      <th>country_code_ALG</th>\n",
       "      <th>country_code_ARG</th>\n",
       "      <th>country_code_ARM</th>\n",
       "      <th>country_code_AUS</th>\n",
       "      <th>country_code_AUT</th>\n",
       "      <th>...</th>\n",
       "      <th>country_code_THA</th>\n",
       "      <th>country_code_TJK</th>\n",
       "      <th>country_code_TPE</th>\n",
       "      <th>country_code_TUN</th>\n",
       "      <th>country_code_TUR</th>\n",
       "      <th>country_code_UGA</th>\n",
       "      <th>country_code_UKR</th>\n",
       "      <th>country_code_USA</th>\n",
       "      <th>country_code_UZB</th>\n",
       "      <th>country_code_ZAM</th>\n",
       "    </tr>\n",
       "  </thead>\n",
       "  <tbody>\n",
       "    <tr>\n",
       "      <th>0</th>\n",
       "      <td>38</td>\n",
       "      <td>42</td>\n",
       "      <td>42</td>\n",
       "      <td>122</td>\n",
       "      <td>0</td>\n",
       "      <td>0</td>\n",
       "      <td>0</td>\n",
       "      <td>0</td>\n",
       "      <td>0</td>\n",
       "      <td>0</td>\n",
       "      <td>...</td>\n",
       "      <td>0</td>\n",
       "      <td>0</td>\n",
       "      <td>0</td>\n",
       "      <td>0</td>\n",
       "      <td>0</td>\n",
       "      <td>0</td>\n",
       "      <td>0</td>\n",
       "      <td>1</td>\n",
       "      <td>0</td>\n",
       "      <td>0</td>\n",
       "    </tr>\n",
       "    <tr>\n",
       "      <th>1</th>\n",
       "      <td>38</td>\n",
       "      <td>27</td>\n",
       "      <td>24</td>\n",
       "      <td>89</td>\n",
       "      <td>0</td>\n",
       "      <td>0</td>\n",
       "      <td>0</td>\n",
       "      <td>0</td>\n",
       "      <td>0</td>\n",
       "      <td>0</td>\n",
       "      <td>...</td>\n",
       "      <td>0</td>\n",
       "      <td>0</td>\n",
       "      <td>0</td>\n",
       "      <td>0</td>\n",
       "      <td>0</td>\n",
       "      <td>0</td>\n",
       "      <td>0</td>\n",
       "      <td>0</td>\n",
       "      <td>0</td>\n",
       "      <td>0</td>\n",
       "    </tr>\n",
       "    <tr>\n",
       "      <th>2</th>\n",
       "      <td>18</td>\n",
       "      <td>18</td>\n",
       "      <td>14</td>\n",
       "      <td>50</td>\n",
       "      <td>0</td>\n",
       "      <td>0</td>\n",
       "      <td>0</td>\n",
       "      <td>0</td>\n",
       "      <td>1</td>\n",
       "      <td>0</td>\n",
       "      <td>...</td>\n",
       "      <td>0</td>\n",
       "      <td>0</td>\n",
       "      <td>0</td>\n",
       "      <td>0</td>\n",
       "      <td>0</td>\n",
       "      <td>0</td>\n",
       "      <td>0</td>\n",
       "      <td>0</td>\n",
       "      <td>0</td>\n",
       "      <td>0</td>\n",
       "    </tr>\n",
       "    <tr>\n",
       "      <th>3</th>\n",
       "      <td>18</td>\n",
       "      <td>12</td>\n",
       "      <td>13</td>\n",
       "      <td>43</td>\n",
       "      <td>0</td>\n",
       "      <td>0</td>\n",
       "      <td>0</td>\n",
       "      <td>0</td>\n",
       "      <td>0</td>\n",
       "      <td>0</td>\n",
       "      <td>...</td>\n",
       "      <td>0</td>\n",
       "      <td>0</td>\n",
       "      <td>0</td>\n",
       "      <td>0</td>\n",
       "      <td>0</td>\n",
       "      <td>0</td>\n",
       "      <td>0</td>\n",
       "      <td>0</td>\n",
       "      <td>0</td>\n",
       "      <td>0</td>\n",
       "    </tr>\n",
       "    <tr>\n",
       "      <th>4</th>\n",
       "      <td>16</td>\n",
       "      <td>24</td>\n",
       "      <td>22</td>\n",
       "      <td>62</td>\n",
       "      <td>0</td>\n",
       "      <td>0</td>\n",
       "      <td>0</td>\n",
       "      <td>0</td>\n",
       "      <td>0</td>\n",
       "      <td>0</td>\n",
       "      <td>...</td>\n",
       "      <td>0</td>\n",
       "      <td>0</td>\n",
       "      <td>0</td>\n",
       "      <td>0</td>\n",
       "      <td>0</td>\n",
       "      <td>0</td>\n",
       "      <td>0</td>\n",
       "      <td>0</td>\n",
       "      <td>0</td>\n",
       "      <td>0</td>\n",
       "    </tr>\n",
       "    <tr>\n",
       "      <th>...</th>\n",
       "      <td>...</td>\n",
       "      <td>...</td>\n",
       "      <td>...</td>\n",
       "      <td>...</td>\n",
       "      <td>...</td>\n",
       "      <td>...</td>\n",
       "      <td>...</td>\n",
       "      <td>...</td>\n",
       "      <td>...</td>\n",
       "      <td>...</td>\n",
       "      <td>...</td>\n",
       "      <td>...</td>\n",
       "      <td>...</td>\n",
       "      <td>...</td>\n",
       "      <td>...</td>\n",
       "      <td>...</td>\n",
       "      <td>...</td>\n",
       "      <td>...</td>\n",
       "      <td>...</td>\n",
       "      <td>...</td>\n",
       "      <td>...</td>\n",
       "    </tr>\n",
       "    <tr>\n",
       "      <th>87</th>\n",
       "      <td>0</td>\n",
       "      <td>0</td>\n",
       "      <td>1</td>\n",
       "      <td>1</td>\n",
       "      <td>0</td>\n",
       "      <td>0</td>\n",
       "      <td>0</td>\n",
       "      <td>0</td>\n",
       "      <td>0</td>\n",
       "      <td>0</td>\n",
       "      <td>...</td>\n",
       "      <td>0</td>\n",
       "      <td>0</td>\n",
       "      <td>0</td>\n",
       "      <td>0</td>\n",
       "      <td>0</td>\n",
       "      <td>0</td>\n",
       "      <td>0</td>\n",
       "      <td>0</td>\n",
       "      <td>0</td>\n",
       "      <td>0</td>\n",
       "    </tr>\n",
       "    <tr>\n",
       "      <th>88</th>\n",
       "      <td>0</td>\n",
       "      <td>0</td>\n",
       "      <td>1</td>\n",
       "      <td>1</td>\n",
       "      <td>0</td>\n",
       "      <td>0</td>\n",
       "      <td>0</td>\n",
       "      <td>0</td>\n",
       "      <td>0</td>\n",
       "      <td>0</td>\n",
       "      <td>...</td>\n",
       "      <td>0</td>\n",
       "      <td>0</td>\n",
       "      <td>0</td>\n",
       "      <td>0</td>\n",
       "      <td>0</td>\n",
       "      <td>0</td>\n",
       "      <td>0</td>\n",
       "      <td>0</td>\n",
       "      <td>0</td>\n",
       "      <td>0</td>\n",
       "    </tr>\n",
       "    <tr>\n",
       "      <th>89</th>\n",
       "      <td>0</td>\n",
       "      <td>0</td>\n",
       "      <td>1</td>\n",
       "      <td>1</td>\n",
       "      <td>0</td>\n",
       "      <td>0</td>\n",
       "      <td>0</td>\n",
       "      <td>0</td>\n",
       "      <td>0</td>\n",
       "      <td>0</td>\n",
       "      <td>...</td>\n",
       "      <td>0</td>\n",
       "      <td>0</td>\n",
       "      <td>0</td>\n",
       "      <td>0</td>\n",
       "      <td>0</td>\n",
       "      <td>0</td>\n",
       "      <td>0</td>\n",
       "      <td>0</td>\n",
       "      <td>0</td>\n",
       "      <td>0</td>\n",
       "    </tr>\n",
       "    <tr>\n",
       "      <th>90</th>\n",
       "      <td>0</td>\n",
       "      <td>0</td>\n",
       "      <td>1</td>\n",
       "      <td>1</td>\n",
       "      <td>0</td>\n",
       "      <td>0</td>\n",
       "      <td>0</td>\n",
       "      <td>0</td>\n",
       "      <td>0</td>\n",
       "      <td>0</td>\n",
       "      <td>...</td>\n",
       "      <td>0</td>\n",
       "      <td>0</td>\n",
       "      <td>0</td>\n",
       "      <td>0</td>\n",
       "      <td>0</td>\n",
       "      <td>0</td>\n",
       "      <td>0</td>\n",
       "      <td>0</td>\n",
       "      <td>0</td>\n",
       "      <td>0</td>\n",
       "    </tr>\n",
       "    <tr>\n",
       "      <th>91</th>\n",
       "      <td>0</td>\n",
       "      <td>0</td>\n",
       "      <td>1</td>\n",
       "      <td>1</td>\n",
       "      <td>0</td>\n",
       "      <td>0</td>\n",
       "      <td>0</td>\n",
       "      <td>0</td>\n",
       "      <td>0</td>\n",
       "      <td>0</td>\n",
       "      <td>...</td>\n",
       "      <td>0</td>\n",
       "      <td>0</td>\n",
       "      <td>0</td>\n",
       "      <td>0</td>\n",
       "      <td>0</td>\n",
       "      <td>0</td>\n",
       "      <td>0</td>\n",
       "      <td>0</td>\n",
       "      <td>0</td>\n",
       "      <td>1</td>\n",
       "    </tr>\n",
       "  </tbody>\n",
       "</table>\n",
       "<p>92 rows × 95 columns</p>\n",
       "</div>"
      ],
      "text/plain": [
       "    Gold Medal  Silver Medal  Bronze Medal  Total  country_code_ALB  \\\n",
       "0           38            42            42    122                 0   \n",
       "1           38            27            24     89                 0   \n",
       "2           18            18            14     50                 0   \n",
       "3           18            12            13     43                 0   \n",
       "4           16            24            22     62                 0   \n",
       "..         ...           ...           ...    ...               ...   \n",
       "87           0             0             1      1                 0   \n",
       "88           0             0             1      1                 0   \n",
       "89           0             0             1      1                 0   \n",
       "90           0             0             1      1                 0   \n",
       "91           0             0             1      1                 0   \n",
       "\n",
       "    country_code_ALG  country_code_ARG  country_code_ARM  country_code_AUS  \\\n",
       "0                  0                 0                 0                 0   \n",
       "1                  0                 0                 0                 0   \n",
       "2                  0                 0                 0                 1   \n",
       "3                  0                 0                 0                 0   \n",
       "4                  0                 0                 0                 0   \n",
       "..               ...               ...               ...               ...   \n",
       "87                 0                 0                 0                 0   \n",
       "88                 0                 0                 0                 0   \n",
       "89                 0                 0                 0                 0   \n",
       "90                 0                 0                 0                 0   \n",
       "91                 0                 0                 0                 0   \n",
       "\n",
       "    country_code_AUT  ...  country_code_THA  country_code_TJK  \\\n",
       "0                  0  ...                 0                 0   \n",
       "1                  0  ...                 0                 0   \n",
       "2                  0  ...                 0                 0   \n",
       "3                  0  ...                 0                 0   \n",
       "4                  0  ...                 0                 0   \n",
       "..               ...  ...               ...               ...   \n",
       "87                 0  ...                 0                 0   \n",
       "88                 0  ...                 0                 0   \n",
       "89                 0  ...                 0                 0   \n",
       "90                 0  ...                 0                 0   \n",
       "91                 0  ...                 0                 0   \n",
       "\n",
       "    country_code_TPE  country_code_TUN  country_code_TUR  country_code_UGA  \\\n",
       "0                  0                 0                 0                 0   \n",
       "1                  0                 0                 0                 0   \n",
       "2                  0                 0                 0                 0   \n",
       "3                  0                 0                 0                 0   \n",
       "4                  0                 0                 0                 0   \n",
       "..               ...               ...               ...               ...   \n",
       "87                 0                 0                 0                 0   \n",
       "88                 0                 0                 0                 0   \n",
       "89                 0                 0                 0                 0   \n",
       "90                 0                 0                 0                 0   \n",
       "91                 0                 0                 0                 0   \n",
       "\n",
       "    country_code_UKR  country_code_USA  country_code_UZB  country_code_ZAM  \n",
       "0                  0                 1                 0                 0  \n",
       "1                  0                 0                 0                 0  \n",
       "2                  0                 0                 0                 0  \n",
       "3                  0                 0                 0                 0  \n",
       "4                  0                 0                 0                 0  \n",
       "..               ...               ...               ...               ...  \n",
       "87                 0                 0                 0                 0  \n",
       "88                 0                 0                 0                 0  \n",
       "89                 0                 0                 0                 0  \n",
       "90                 0                 0                 0                 0  \n",
       "91                 0                 0                 0                 1  \n",
       "\n",
       "[92 rows x 95 columns]"
      ]
     },
     "execution_count": 64,
     "metadata": {},
     "output_type": "execute_result"
    }
   ],
   "source": [
    "data_encoded"
   ]
  },
  {
   "cell_type": "code",
   "execution_count": 65,
   "id": "1cad9af0",
   "metadata": {},
   "outputs": [],
   "source": [
    "# feature selection\n",
    "\n",
    "X = data_encoded.drop('Total', axis=1)\n",
    "y = data_encoded['Total']"
   ]
  },
  {
   "cell_type": "code",
   "execution_count": 66,
   "id": "11eeaaa4",
   "metadata": {},
   "outputs": [],
   "source": [
    "X_train, X_test, y_train, y_test = train_test_split(X, y, test_size=0.2, random_state=42)"
   ]
  },
  {
   "cell_type": "code",
   "execution_count": 67,
   "id": "c87b2df2",
   "metadata": {},
   "outputs": [
    {
     "data": {
      "text/html": [
       "<style>#sk-container-id-3 {color: black;background-color: white;}#sk-container-id-3 pre{padding: 0;}#sk-container-id-3 div.sk-toggleable {background-color: white;}#sk-container-id-3 label.sk-toggleable__label {cursor: pointer;display: block;width: 100%;margin-bottom: 0;padding: 0.3em;box-sizing: border-box;text-align: center;}#sk-container-id-3 label.sk-toggleable__label-arrow:before {content: \"▸\";float: left;margin-right: 0.25em;color: #696969;}#sk-container-id-3 label.sk-toggleable__label-arrow:hover:before {color: black;}#sk-container-id-3 div.sk-estimator:hover label.sk-toggleable__label-arrow:before {color: black;}#sk-container-id-3 div.sk-toggleable__content {max-height: 0;max-width: 0;overflow: hidden;text-align: left;background-color: #f0f8ff;}#sk-container-id-3 div.sk-toggleable__content pre {margin: 0.2em;color: black;border-radius: 0.25em;background-color: #f0f8ff;}#sk-container-id-3 input.sk-toggleable__control:checked~div.sk-toggleable__content {max-height: 200px;max-width: 100%;overflow: auto;}#sk-container-id-3 input.sk-toggleable__control:checked~label.sk-toggleable__label-arrow:before {content: \"▾\";}#sk-container-id-3 div.sk-estimator input.sk-toggleable__control:checked~label.sk-toggleable__label {background-color: #d4ebff;}#sk-container-id-3 div.sk-label input.sk-toggleable__control:checked~label.sk-toggleable__label {background-color: #d4ebff;}#sk-container-id-3 input.sk-hidden--visually {border: 0;clip: rect(1px 1px 1px 1px);clip: rect(1px, 1px, 1px, 1px);height: 1px;margin: -1px;overflow: hidden;padding: 0;position: absolute;width: 1px;}#sk-container-id-3 div.sk-estimator {font-family: monospace;background-color: #f0f8ff;border: 1px dotted black;border-radius: 0.25em;box-sizing: border-box;margin-bottom: 0.5em;}#sk-container-id-3 div.sk-estimator:hover {background-color: #d4ebff;}#sk-container-id-3 div.sk-parallel-item::after {content: \"\";width: 100%;border-bottom: 1px solid gray;flex-grow: 1;}#sk-container-id-3 div.sk-label:hover label.sk-toggleable__label {background-color: #d4ebff;}#sk-container-id-3 div.sk-serial::before {content: \"\";position: absolute;border-left: 1px solid gray;box-sizing: border-box;top: 0;bottom: 0;left: 50%;z-index: 0;}#sk-container-id-3 div.sk-serial {display: flex;flex-direction: column;align-items: center;background-color: white;padding-right: 0.2em;padding-left: 0.2em;position: relative;}#sk-container-id-3 div.sk-item {position: relative;z-index: 1;}#sk-container-id-3 div.sk-parallel {display: flex;align-items: stretch;justify-content: center;background-color: white;position: relative;}#sk-container-id-3 div.sk-item::before, #sk-container-id-3 div.sk-parallel-item::before {content: \"\";position: absolute;border-left: 1px solid gray;box-sizing: border-box;top: 0;bottom: 0;left: 50%;z-index: -1;}#sk-container-id-3 div.sk-parallel-item {display: flex;flex-direction: column;z-index: 1;position: relative;background-color: white;}#sk-container-id-3 div.sk-parallel-item:first-child::after {align-self: flex-end;width: 50%;}#sk-container-id-3 div.sk-parallel-item:last-child::after {align-self: flex-start;width: 50%;}#sk-container-id-3 div.sk-parallel-item:only-child::after {width: 0;}#sk-container-id-3 div.sk-dashed-wrapped {border: 1px dashed gray;margin: 0 0.4em 0.5em 0.4em;box-sizing: border-box;padding-bottom: 0.4em;background-color: white;}#sk-container-id-3 div.sk-label label {font-family: monospace;font-weight: bold;display: inline-block;line-height: 1.2em;}#sk-container-id-3 div.sk-label-container {text-align: center;}#sk-container-id-3 div.sk-container {/* jupyter's `normalize.less` sets `[hidden] { display: none; }` but bootstrap.min.css set `[hidden] { display: none !important; }` so we also need the `!important` here to be able to override the default hidden behavior on the sphinx rendered scikit-learn.org. See: https://github.com/scikit-learn/scikit-learn/issues/21755 */display: inline-block !important;position: relative;}#sk-container-id-3 div.sk-text-repr-fallback {display: none;}</style><div id=\"sk-container-id-3\" class=\"sk-top-container\"><div class=\"sk-text-repr-fallback\"><pre>RandomForestRegressor(random_state=42)</pre><b>In a Jupyter environment, please rerun this cell to show the HTML representation or trust the notebook. <br />On GitHub, the HTML representation is unable to render, please try loading this page with nbviewer.org.</b></div><div class=\"sk-container\" hidden><div class=\"sk-item\"><div class=\"sk-estimator sk-toggleable\"><input class=\"sk-toggleable__control sk-hidden--visually\" id=\"sk-estimator-id-3\" type=\"checkbox\" checked><label for=\"sk-estimator-id-3\" class=\"sk-toggleable__label sk-toggleable__label-arrow\">RandomForestRegressor</label><div class=\"sk-toggleable__content\"><pre>RandomForestRegressor(random_state=42)</pre></div></div></div></div></div>"
      ],
      "text/plain": [
       "RandomForestRegressor(random_state=42)"
      ]
     },
     "execution_count": 67,
     "metadata": {},
     "output_type": "execute_result"
    }
   ],
   "source": [
    "# model training \n",
    "\n",
    "model = RandomForestRegressor(n_estimators=100, random_state=42)\n",
    "\n",
    "model.fit(X_train, y_train)"
   ]
  },
  {
   "cell_type": "code",
   "execution_count": 71,
   "id": "a221fbd0",
   "metadata": {},
   "outputs": [],
   "source": [
    "#Predictions \n",
    "\n",
    "y_pred = model.predict(X_test)\n",
    "\n",
    "future_predictions = model.predict(X)"
   ]
  },
  {
   "cell_type": "code",
   "execution_count": 72,
   "id": "dcb1e565",
   "metadata": {},
   "outputs": [
    {
     "name": "stdout",
     "output_type": "stream",
     "text": [
      "   country_code  Total  Predicted_Total_2028\n",
      "0           USA    122                 70.01\n",
      "1           CHN     89                 76.51\n",
      "2           AUS     50                 49.29\n",
      "3           JPN     43                 40.68\n",
      "4           FRA     62                 63.24\n",
      "..          ...    ...                   ...\n",
      "87          PUR      1                  1.00\n",
      "88          QAT      1                  1.00\n",
      "89          SGP      1                  1.00\n",
      "90          SVK      1                  1.00\n",
      "91          ZAM      1                  1.00\n",
      "\n",
      "[92 rows x 3 columns]\n"
     ]
    }
   ],
   "source": [
    "# added prediction feature in orignial dataset\n",
    "\n",
    "dataset['Predicted_Total_2028'] = future_predictions\n",
    "\n",
    "\n",
    "print(dataset[['country_code', 'Total', 'Predicted_Total_2028']])\n"
   ]
  },
  {
   "cell_type": "code",
   "execution_count": 73,
   "id": "bd474a07",
   "metadata": {},
   "outputs": [
    {
     "name": "stdout",
     "output_type": "stream",
     "text": [
      "Mean Squared Error: 144.6463842105263\n",
      "R-squared: 0.8230640258200055\n"
     ]
    }
   ],
   "source": [
    "# Accuracy - mean squared error and R-squared\n",
    "\n",
    "mse = mean_squared_error(y_test, y_pred)\n",
    "r2 = r2_score(y_test, y_pred)\n",
    "\n",
    "\n",
    "print(f'Mean Squared Error: {mse}')\n",
    "print(f'R-squared: {r2}')\n"
   ]
  },
  {
   "cell_type": "code",
   "execution_count": 74,
   "id": "0f95829c",
   "metadata": {},
   "outputs": [
    {
     "data": {
      "image/png": "[encoded data removed]",
      "text/plain": [
       "<Figure size 1200x600 with 1 Axes>"
      ]
     },
     "metadata": {},
     "output_type": "display_data"
    }
   ],
   "source": [
    "# Plot result\n",
    "\n",
    "plt.figure(figsize=(12, 6))\n",
    "sns.barplot(x='country_code', y='Predicted_Total_2028', data=dataset)\n",
    "\n",
    "plt.title('Predicted Total Medals for 2028')\n",
    "plt.xlabel('Country Code')\n",
    "plt.ylabel('Predicted Total Medals')\n",
    "\n",
    "\n",
    "plt.show()\n"
   ]
  },
  {
   "cell_type": "code",
   "execution_count": 109,
   "id": "e92a3931",
   "metadata": {},
   "outputs": [],
   "source": [
    "# rounding the resulted values ..\n",
    "\n",
    "dataset[['country_code', 'Gold Medal', 'Silver Medal', 'Bronze Medal', 'Total', 'Predicted_Total_2028']] = dataset[['country_code', 'Gold Medal', 'Silver Medal', 'Bronze Medal', 'Total', 'Predicted_Total_2028']].round({'Gold Medal': 0, 'Silver Medal': 0, 'Bronze Medal': 0, 'Total': 0, 'Predicted_Total_2028': 0})"
   ]
  },
  {
   "cell_type": "code",
   "execution_count": 110,
   "id": "530ac63a",
   "metadata": {},
   "outputs": [],
   "source": [
    "# Saving result to csv file ..\n",
    "\n",
    "dataset[['country_code','Gold Medal','Silver Medal','Bronze Medal', 'Total', 'Predicted_Total_2028']].to_csv('olympics_medal_predictions_2028.csv', index=False)"
   ]
  },
  {
   "cell_type": "code",
   "execution_count": null,
   "id": "71fb79c7",
   "metadata": {},
   "outputs": [],
   "source": []
  },
  {
   "cell_type": "code",
   "execution_count": null,
   "id": "6c549112",
   "metadata": {},
   "outputs": [],
   "source": []
  },
  {
   "cell_type": "code",
   "execution_count": 88,
   "id": "d44930e3",
   "metadata": {},
   "outputs": [],
   "source": [
    "# Outlier detection using IQR..\n",
    "\n",
    "\n",
    "Q1 = dataset[['Gold Medal', 'Silver Medal', 'Bronze Medal', 'Total']].quantile(0.25)\n",
    "Q3 = dataset[['Gold Medal', 'Silver Medal', 'Bronze Medal', 'Total']].quantile(0.75)\n",
    "\n",
    "\n",
    "IQR = Q3 - Q1\n",
    "\n",
    "lower_limit = Q1 - 1.5 * IQR\n",
    "upper_limit = Q3 + 1.5 * IQR"
   ]
  },
  {
   "cell_type": "code",
   "execution_count": 89,
   "id": "9a1f35ac",
   "metadata": {},
   "outputs": [],
   "source": [
    "outliers = (dataset[['Gold Medal', 'Silver Medal', 'Bronze Medal', 'Total']] < lower_limit) | (dataset[['Gold Medal', 'Silver Medal', 'Bronze Medal', 'Total']] > upper_limit)"
   ]
  },
  {
   "cell_type": "code",
   "execution_count": 91,
   "id": "df593dc6",
   "metadata": {},
   "outputs": [
    {
     "data": {
      "text/plain": [
       "<Axes: title={'center': 'Boxplot for Medal Counts with Outliers Highlighted'}, xlabel='Medal Type', ylabel='Total_Medals'>"
      ]
     },
     "execution_count": 91,
     "metadata": {},
     "output_type": "execute_result"
    },
    {
     "data": {
      "image/png": "[encoded data removed]",
      "text/plain": [
       "<Figure size 1200x600 with 1 Axes>"
      ]
     },
     "metadata": {},
     "output_type": "display_data"
    }
   ],
   "source": [
    "plt.figure(figsize=(12, 6))\n",
    "plt.title('Boxplot for Medal Counts with Outliers Highlighted')\n",
    "plt.xlabel('Medal Type')\n",
    "plt.ylabel('Total_Medals')\n",
    "sns.boxplot(data=dataset[['Gold Medal', 'Silver Medal', 'Bronze Medal', 'Total']])\n"
   ]
  },
  {
   "cell_type": "code",
   "execution_count": 92,
   "id": "5b6355bb",
   "metadata": {},
   "outputs": [
    {
     "name": "stdout",
     "output_type": "stream",
     "text": [
      "Cleaned dataset without outliers:\n",
      "   country_code  Gold Medal  Silver Medal  Bronze Medal  Total  \\\n",
      "14          ESP           5             4             8     17   \n",
      "15          SWE           4             4             3     11   \n",
      "16          KEN           4             2             4     10   \n",
      "17          NOR           4             1             3      8   \n",
      "18          IRL           4             0             3      7   \n",
      "..          ...         ...           ...           ...    ...   \n",
      "87          PUR           0             0             1      1   \n",
      "88          QAT           0             0             1      1   \n",
      "89          SGP           0             0             1      1   \n",
      "90          SVK           0             0             1      1   \n",
      "91          ZAM           0             0             1      1   \n",
      "\n",
      "    Predicted_Total_2028  \n",
      "14                 15.76  \n",
      "15                 10.65  \n",
      "16                  8.73  \n",
      "17                  7.58  \n",
      "18                  6.91  \n",
      "..                   ...  \n",
      "87                  1.00  \n",
      "88                  1.00  \n",
      "89                  1.00  \n",
      "90                  1.00  \n",
      "91                  1.00  \n",
      "\n",
      "[77 rows x 6 columns]\n"
     ]
    }
   ],
   "source": [
    "# Remove outliers ..\n",
    "cleaned_data = dataset[~outliers_iqr.any(axis=1)]\n",
    "\n",
    "\n",
    "print(\"Cleaned dataset without outliers:\")\n",
    "print(cleaned_data)"
   ]
  },
  {
   "cell_type": "code",
   "execution_count": 93,
   "id": "34bbefa5",
   "metadata": {},
   "outputs": [],
   "source": [
    "X_clean = cleaned_data .drop(columns=['Total', 'country_code'])\n",
    "y_clean = cleaned_data ['Total']"
   ]
  },
  {
   "cell_type": "code",
   "execution_count": 94,
   "id": "e349f49d",
   "metadata": {},
   "outputs": [],
   "source": [
    "X_train_clean, X_test_clean, y_train_clean, y_test_clean = train_test_split(X_clean, y_clean, test_size=0.2, random_state=42)"
   ]
  },
  {
   "cell_type": "code",
   "execution_count": 97,
   "id": "cd7159c8",
   "metadata": {},
   "outputs": [],
   "source": [
    "# model training ..\n",
    "\n",
    "model_clean = RandomForestRegressor(n_estimators=100, random_state=42)\n",
    "\n",
    "model_clean.fit(X_train_clean, y_train_clean)\n",
    "\n",
    "y_pred_clean = model_clean.predict(X_test_clean)"
   ]
  },
  {
   "cell_type": "code",
   "execution_count": 98,
   "id": "98e5936c",
   "metadata": {},
   "outputs": [],
   "source": [
    "# Predictions ..\n",
    "future_predictions_clean = model_clean.predict(X_clean)"
   ]
  },
  {
   "cell_type": "code",
   "execution_count": 99,
   "id": "391cae83",
   "metadata": {},
   "outputs": [
    {
     "name": "stderr",
     "output_type": "stream",
     "text": [
      "C:\\Users\\LAPTOP\\AppData\\Local\\Temp\\ipykernel_15988\\3066604462.py:1: SettingWithCopyWarning: \n",
      "A value is trying to be set on a copy of a slice from a DataFrame.\n",
      "Try using .loc[row_indexer,col_indexer] = value instead\n",
      "\n",
      "See the caveats in the documentation: https://pandas.pydata.org/pandas-docs/stable/user_guide/indexing.html#returning-a-view-versus-a-copy\n",
      "  cleaned_data['Predicted_Total_2028'] = future_predictions_clean\n"
     ]
    }
   ],
   "source": [
    "cleaned_data['Predicted_Total_2028'] = future_predictions_clean"
   ]
  },
  {
   "cell_type": "code",
   "execution_count": 100,
   "id": "8fb51ead",
   "metadata": {},
   "outputs": [
    {
     "name": "stdout",
     "output_type": "stream",
     "text": [
      "   country_code  Total  Predicted_Total_2028\n",
      "14          ESP     17                 11.00\n",
      "15          SWE     11                 10.62\n",
      "16          KEN     10                  9.44\n",
      "17          NOR      8                  7.66\n",
      "18          IRL      7                  6.61\n",
      "..          ...    ...                   ...\n",
      "87          PUR      1                  1.00\n",
      "88          QAT      1                  1.00\n",
      "89          SGP      1                  1.00\n",
      "90          SVK      1                  1.00\n",
      "91          ZAM      1                  1.00\n",
      "\n",
      "[77 rows x 3 columns]\n"
     ]
    }
   ],
   "source": [
    "print(cleaned_data[['country_code', 'Total', 'Predicted_Total_2028']])"
   ]
  },
  {
   "cell_type": "code",
   "execution_count": 101,
   "id": "f9f19185",
   "metadata": {},
   "outputs": [
    {
     "data": {
      "image/png": "[encoded data removed]",
      "text/plain": [
       "<Figure size 1200x600 with 1 Axes>"
      ]
     },
     "metadata": {},
     "output_type": "display_data"
    }
   ],
   "source": [
    "# Plot result ..\n",
    "\n",
    "plt.figure(figsize=(12, 6))\n",
    "sns.barplot(x='country_code', y='Predicted_Total_2028', data=cleaned_data)\n",
    "\n",
    "plt.title('Predicted Total Medals for 2028 (Cleaned Data)')\n",
    "plt.xlabel('Country Code')\n",
    "plt.ylabel('Predicted Total Medals')\n",
    "\n",
    "plt.show()\n"
   ]
  },
  {
   "cell_type": "code",
   "execution_count": 106,
   "id": "ac562fcc",
   "metadata": {},
   "outputs": [
    {
     "name": "stderr",
     "output_type": "stream",
     "text": [
      "C:\\Users\\LAPTOP\\AppData\\Local\\Temp\\ipykernel_15988\\2028713529.py:3: SettingWithCopyWarning: \n",
      "A value is trying to be set on a copy of a slice from a DataFrame.\n",
      "Try using .loc[row_indexer,col_indexer] = value instead\n",
      "\n",
      "See the caveats in the documentation: https://pandas.pydata.org/pandas-docs/stable/user_guide/indexing.html#returning-a-view-versus-a-copy\n",
      "  cleaned_data[['country_code', 'Gold Medal', 'Silver Medal', 'Bronze Medal', 'Total', 'Predicted_Total_2028']] = cleaned_data[['country_code', 'Gold Medal', 'Silver Medal', 'Bronze Medal', 'Total', 'Predicted_Total_2028']].round({'Gold Medal': 0, 'Silver Medal': 0, 'Bronze Medal': 0, 'Total': 0, 'Predicted_Total_2028': 0})\n"
     ]
    }
   ],
   "source": [
    "# rounding the result values ..\n",
    "\n",
    "cleaned_data[['country_code', 'Gold Medal', 'Silver Medal', 'Bronze Medal', 'Total', 'Predicted_Total_2028']] = cleaned_data[['country_code', 'Gold Medal', 'Silver Medal', 'Bronze Medal', 'Total', 'Predicted_Total_2028']].round({'Gold Medal': 0, 'Silver Medal': 0, 'Bronze Medal': 0, 'Total': 0, 'Predicted_Total_2028': 0})\n"
   ]
  },
  {
   "cell_type": "code",
   "execution_count": 107,
   "id": "f8d380c4",
   "metadata": {},
   "outputs": [],
   "source": [
    "cleaned_data[['country_code','Gold Medal','Silver Medal','Bronze Medal', 'Total', 'Predicted_Total_2028']].to_csv('without_outliers_olympics_medal_predictions_2028.csv', index=False)"
   ]
  },
  {
   "cell_type": "code",
   "execution_count": 104,
   "id": "2ad904a4",
   "metadata": {},
   "outputs": [
    {
     "name": "stdout",
     "output_type": "stream",
     "text": [
      "As per prediction analysis using Random Forest Regressor - India predicts 6.55 total medals with outliers and without outliers - 6.3\n"
     ]
    }
   ],
   "source": [
    "print('As per prediction analysis using Random Forest Regressor - India predicts 6.55 total medals with outliers and without outliers - 6.3')"
   ]
  },
  {
   "cell_type": "code",
   "execution_count": null,
   "id": "318cc830",
   "metadata": {},
   "outputs": [],
   "source": []
  },
  {
   "cell_type": "code",
   "execution_count": null,
   "id": "87877970",
   "metadata": {},
   "outputs": [],
   "source": []
  }
 ],
 "metadata": {
  "kernelspec": {
   "display_name": "Python 3 (ipykernel)",
   "language": "python",
   "name": "python3"
  },
  "language_info": {
   "codemirror_mode": {
    "name": "ipython",
    "version": 3
   },
   "file_extension": ".py",
   "mimetype": "text/x-python",
   "name": "python",
   "nbconvert_exporter": "python",
   "pygments_lexer": "ipython3",
   "version": "3.10.9"
  }
 },
 "nbformat": 4,
 "nbformat_minor": 5
}
